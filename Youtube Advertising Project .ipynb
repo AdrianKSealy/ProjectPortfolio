{
  "nbformat": 4,
  "nbformat_minor": 0,
  "metadata": {
    "colab": {
      "provenance": [],
      "authorship_tag": "ABX9TyMq1NP6RlSFUNRkYERUsLfr",
      "include_colab_link": true
    },
    "kernelspec": {
      "name": "python3",
      "display_name": "Python 3"
    },
    "language_info": {
      "name": "python"
    }
  },
  "cells": [
    {
      "cell_type": "markdown",
      "metadata": {
        "id": "view-in-github",
        "colab_type": "text"
      },
      "source": [
        "<a href=\"https://colab.research.google.com/github/AdrianKSealy/ProjectPortfolio/blob/main/Youtube%20Advertising%20Project%20.ipynb\" target=\"_parent\"><img src=\"https://colab.research.google.com/assets/colab-badge.svg\" alt=\"Open In Colab\"/></a>"
      ]
    },
    {
      "cell_type": "markdown",
      "source": [
        "Youtube is the biggest online video sharing and social media platform in the world. Which makes it a lucrative platform option relating to advertising. Useful ways to promote your business would be placing a video ad through Youtube’s advertising program or using content creators on the platform. Youtube’s algorithm can help with choosing where to place your video ads. Therefore, when selecting content creators a business would want to make sure the creator has an abundance of views. I will investigate how a business should proceed selecting content creators to promote their business. \n",
        "\n",
        "Data [link text](https://www.kaggle.com/datasets/advaypatil/youtube-statistics/download?datasetVersionNumber=1)"
      ],
      "metadata": {
        "id": "RBIaVgg0aFLT"
      }
    },
    {
      "cell_type": "code",
      "source": [
        "# data and visulations imports\n",
        "import pandas as pd\n",
        "import numpy as np\n",
        "import seaborn as sns\n",
        "import math\n",
        "import scipy as sp\n",
        "import matplotlib.pyplot as plt\n",
        "import csv\n",
        "from google.colab import drive\n",
        "drive.mount('/content/gdrive')"
      ],
      "metadata": {
        "colab": {
          "base_uri": "https://localhost:8080/"
        },
        "id": "PC1Ls-pVbW4O",
        "outputId": "33273326-cc9f-4152-a554-5572c1a2d588"
      },
      "execution_count": null,
      "outputs": [
        {
          "output_type": "stream",
          "name": "stdout",
          "text": [
            "Mounted at /content/gdrive\n"
          ]
        }
      ]
    },
    {
      "cell_type": "code",
      "source": [
        "# video stats data\n",
        "\n",
        "video_stats_df = pd.read_csv('/content/gdrive/My Drive/Colab DFs/videos-stats.csv')\n",
        "video_stats_df\n"
      ],
      "metadata": {
        "colab": {
          "base_uri": "https://localhost:8080/",
          "height": 424
        },
        "id": "6fgxrm84cabq",
        "outputId": "19a6e0f8-e5bd-4330-8c6c-252d44d0860a"
      },
      "execution_count": null,
      "outputs": [
        {
          "output_type": "execute_result",
          "data": {
            "text/plain": [
              "      Unnamed: 0                                              Title  \\\n",
              "0              0  Apple Pay Is Killing the Physical Wallet After...   \n",
              "1              1                    The most EXPENSIVE thing I own.   \n",
              "2              2                 My New House Gaming Setup is SICK!   \n",
              "3              3  Petrol Vs Liquid Nitrogen | Freezing Experimen...   \n",
              "4              4                     Best Back to School Tech 2022!   \n",
              "...          ...                                                ...   \n",
              "1876        1876                 Should You Learn Machine Learning?   \n",
              "1877        1877            Todos podemos aprender Machine learning   \n",
              "1878        1878  Andrew Ng: Deep Learning, Education, and Real-...   \n",
              "1879        1879                          What is Machine Learning?   \n",
              "1880        1880                   Don&#39;t learn machine learning   \n",
              "\n",
              "         Video ID Published At           Keyword    Likes  Comments      Views  \n",
              "0     wAZZ-UWGVHI    8/23/2022              tech   3407.0     672.0   135612.0  \n",
              "1     b3x28s61q3c    8/24/2022              tech  76779.0    4306.0  1758063.0  \n",
              "2     4mgePWWCAmA    8/23/2022              tech  63825.0    3338.0  1564007.0  \n",
              "3     kXiYSI7H2b0    8/23/2022              tech  71566.0    1426.0   922918.0  \n",
              "4     ErMwWXQxHp0     8/8/2022              tech  96513.0    5155.0  1855644.0  \n",
              "...           ...          ...               ...      ...       ...        ...  \n",
              "1876  AO6urf07KjE    6/14/2021  machine learning  10259.0     416.0   386360.0  \n",
              "1877  7ClLKBUvmRk    10/8/2017  machine learning   2981.0      72.0   431421.0  \n",
              "1878  0jspaMLxBig    2/20/2020  machine learning   5198.0     443.0   226152.0  \n",
              "1879  f_uwKZIAeM0    1/11/2017  machine learning      NaN       NaN        NaN  \n",
              "1880  cyLWtMSry58    3/30/2020  machine learning      NaN       NaN        NaN  \n",
              "\n",
              "[1881 rows x 8 columns]"
            ],
            "text/html": [
              "\n",
              "  <div id=\"df-e4f97b2b-103c-4779-a430-7e58ebc1198f\">\n",
              "    <div class=\"colab-df-container\">\n",
              "      <div>\n",
              "<style scoped>\n",
              "    .dataframe tbody tr th:only-of-type {\n",
              "        vertical-align: middle;\n",
              "    }\n",
              "\n",
              "    .dataframe tbody tr th {\n",
              "        vertical-align: top;\n",
              "    }\n",
              "\n",
              "    .dataframe thead th {\n",
              "        text-align: right;\n",
              "    }\n",
              "</style>\n",
              "<table border=\"1\" class=\"dataframe\">\n",
              "  <thead>\n",
              "    <tr style=\"text-align: right;\">\n",
              "      <th></th>\n",
              "      <th>Unnamed: 0</th>\n",
              "      <th>Title</th>\n",
              "      <th>Video ID</th>\n",
              "      <th>Published At</th>\n",
              "      <th>Keyword</th>\n",
              "      <th>Likes</th>\n",
              "      <th>Comments</th>\n",
              "      <th>Views</th>\n",
              "    </tr>\n",
              "  </thead>\n",
              "  <tbody>\n",
              "    <tr>\n",
              "      <th>0</th>\n",
              "      <td>0</td>\n",
              "      <td>Apple Pay Is Killing the Physical Wallet After...</td>\n",
              "      <td>wAZZ-UWGVHI</td>\n",
              "      <td>8/23/2022</td>\n",
              "      <td>tech</td>\n",
              "      <td>3407.0</td>\n",
              "      <td>672.0</td>\n",
              "      <td>135612.0</td>\n",
              "    </tr>\n",
              "    <tr>\n",
              "      <th>1</th>\n",
              "      <td>1</td>\n",
              "      <td>The most EXPENSIVE thing I own.</td>\n",
              "      <td>b3x28s61q3c</td>\n",
              "      <td>8/24/2022</td>\n",
              "      <td>tech</td>\n",
              "      <td>76779.0</td>\n",
              "      <td>4306.0</td>\n",
              "      <td>1758063.0</td>\n",
              "    </tr>\n",
              "    <tr>\n",
              "      <th>2</th>\n",
              "      <td>2</td>\n",
              "      <td>My New House Gaming Setup is SICK!</td>\n",
              "      <td>4mgePWWCAmA</td>\n",
              "      <td>8/23/2022</td>\n",
              "      <td>tech</td>\n",
              "      <td>63825.0</td>\n",
              "      <td>3338.0</td>\n",
              "      <td>1564007.0</td>\n",
              "    </tr>\n",
              "    <tr>\n",
              "      <th>3</th>\n",
              "      <td>3</td>\n",
              "      <td>Petrol Vs Liquid Nitrogen | Freezing Experimen...</td>\n",
              "      <td>kXiYSI7H2b0</td>\n",
              "      <td>8/23/2022</td>\n",
              "      <td>tech</td>\n",
              "      <td>71566.0</td>\n",
              "      <td>1426.0</td>\n",
              "      <td>922918.0</td>\n",
              "    </tr>\n",
              "    <tr>\n",
              "      <th>4</th>\n",
              "      <td>4</td>\n",
              "      <td>Best Back to School Tech 2022!</td>\n",
              "      <td>ErMwWXQxHp0</td>\n",
              "      <td>8/8/2022</td>\n",
              "      <td>tech</td>\n",
              "      <td>96513.0</td>\n",
              "      <td>5155.0</td>\n",
              "      <td>1855644.0</td>\n",
              "    </tr>\n",
              "    <tr>\n",
              "      <th>...</th>\n",
              "      <td>...</td>\n",
              "      <td>...</td>\n",
              "      <td>...</td>\n",
              "      <td>...</td>\n",
              "      <td>...</td>\n",
              "      <td>...</td>\n",
              "      <td>...</td>\n",
              "      <td>...</td>\n",
              "    </tr>\n",
              "    <tr>\n",
              "      <th>1876</th>\n",
              "      <td>1876</td>\n",
              "      <td>Should You Learn Machine Learning?</td>\n",
              "      <td>AO6urf07KjE</td>\n",
              "      <td>6/14/2021</td>\n",
              "      <td>machine learning</td>\n",
              "      <td>10259.0</td>\n",
              "      <td>416.0</td>\n",
              "      <td>386360.0</td>\n",
              "    </tr>\n",
              "    <tr>\n",
              "      <th>1877</th>\n",
              "      <td>1877</td>\n",
              "      <td>Todos podemos aprender Machine learning</td>\n",
              "      <td>7ClLKBUvmRk</td>\n",
              "      <td>10/8/2017</td>\n",
              "      <td>machine learning</td>\n",
              "      <td>2981.0</td>\n",
              "      <td>72.0</td>\n",
              "      <td>431421.0</td>\n",
              "    </tr>\n",
              "    <tr>\n",
              "      <th>1878</th>\n",
              "      <td>1878</td>\n",
              "      <td>Andrew Ng: Deep Learning, Education, and Real-...</td>\n",
              "      <td>0jspaMLxBig</td>\n",
              "      <td>2/20/2020</td>\n",
              "      <td>machine learning</td>\n",
              "      <td>5198.0</td>\n",
              "      <td>443.0</td>\n",
              "      <td>226152.0</td>\n",
              "    </tr>\n",
              "    <tr>\n",
              "      <th>1879</th>\n",
              "      <td>1879</td>\n",
              "      <td>What is Machine Learning?</td>\n",
              "      <td>f_uwKZIAeM0</td>\n",
              "      <td>1/11/2017</td>\n",
              "      <td>machine learning</td>\n",
              "      <td>NaN</td>\n",
              "      <td>NaN</td>\n",
              "      <td>NaN</td>\n",
              "    </tr>\n",
              "    <tr>\n",
              "      <th>1880</th>\n",
              "      <td>1880</td>\n",
              "      <td>Don&amp;#39;t learn machine learning</td>\n",
              "      <td>cyLWtMSry58</td>\n",
              "      <td>3/30/2020</td>\n",
              "      <td>machine learning</td>\n",
              "      <td>NaN</td>\n",
              "      <td>NaN</td>\n",
              "      <td>NaN</td>\n",
              "    </tr>\n",
              "  </tbody>\n",
              "</table>\n",
              "<p>1881 rows × 8 columns</p>\n",
              "</div>\n",
              "      <button class=\"colab-df-convert\" onclick=\"convertToInteractive('df-e4f97b2b-103c-4779-a430-7e58ebc1198f')\"\n",
              "              title=\"Convert this dataframe to an interactive table.\"\n",
              "              style=\"display:none;\">\n",
              "        \n",
              "  <svg xmlns=\"http://www.w3.org/2000/svg\" height=\"24px\"viewBox=\"0 0 24 24\"\n",
              "       width=\"24px\">\n",
              "    <path d=\"M0 0h24v24H0V0z\" fill=\"none\"/>\n",
              "    <path d=\"M18.56 5.44l.94 2.06.94-2.06 2.06-.94-2.06-.94-.94-2.06-.94 2.06-2.06.94zm-11 1L8.5 8.5l.94-2.06 2.06-.94-2.06-.94L8.5 2.5l-.94 2.06-2.06.94zm10 10l.94 2.06.94-2.06 2.06-.94-2.06-.94-.94-2.06-.94 2.06-2.06.94z\"/><path d=\"M17.41 7.96l-1.37-1.37c-.4-.4-.92-.59-1.43-.59-.52 0-1.04.2-1.43.59L10.3 9.45l-7.72 7.72c-.78.78-.78 2.05 0 2.83L4 21.41c.39.39.9.59 1.41.59.51 0 1.02-.2 1.41-.59l7.78-7.78 2.81-2.81c.8-.78.8-2.07 0-2.86zM5.41 20L4 18.59l7.72-7.72 1.47 1.35L5.41 20z\"/>\n",
              "  </svg>\n",
              "      </button>\n",
              "      \n",
              "  <style>\n",
              "    .colab-df-container {\n",
              "      display:flex;\n",
              "      flex-wrap:wrap;\n",
              "      gap: 12px;\n",
              "    }\n",
              "\n",
              "    .colab-df-convert {\n",
              "      background-color: #E8F0FE;\n",
              "      border: none;\n",
              "      border-radius: 50%;\n",
              "      cursor: pointer;\n",
              "      display: none;\n",
              "      fill: #1967D2;\n",
              "      height: 32px;\n",
              "      padding: 0 0 0 0;\n",
              "      width: 32px;\n",
              "    }\n",
              "\n",
              "    .colab-df-convert:hover {\n",
              "      background-color: #E2EBFA;\n",
              "      box-shadow: 0px 1px 2px rgba(60, 64, 67, 0.3), 0px 1px 3px 1px rgba(60, 64, 67, 0.15);\n",
              "      fill: #174EA6;\n",
              "    }\n",
              "\n",
              "    [theme=dark] .colab-df-convert {\n",
              "      background-color: #3B4455;\n",
              "      fill: #D2E3FC;\n",
              "    }\n",
              "\n",
              "    [theme=dark] .colab-df-convert:hover {\n",
              "      background-color: #434B5C;\n",
              "      box-shadow: 0px 1px 3px 1px rgba(0, 0, 0, 0.15);\n",
              "      filter: drop-shadow(0px 1px 2px rgba(0, 0, 0, 0.3));\n",
              "      fill: #FFFFFF;\n",
              "    }\n",
              "  </style>\n",
              "\n",
              "      <script>\n",
              "        const buttonEl =\n",
              "          document.querySelector('#df-e4f97b2b-103c-4779-a430-7e58ebc1198f button.colab-df-convert');\n",
              "        buttonEl.style.display =\n",
              "          google.colab.kernel.accessAllowed ? 'block' : 'none';\n",
              "\n",
              "        async function convertToInteractive(key) {\n",
              "          const element = document.querySelector('#df-e4f97b2b-103c-4779-a430-7e58ebc1198f');\n",
              "          const dataTable =\n",
              "            await google.colab.kernel.invokeFunction('convertToInteractive',\n",
              "                                                     [key], {});\n",
              "          if (!dataTable) return;\n",
              "\n",
              "          const docLinkHtml = 'Like what you see? Visit the ' +\n",
              "            '<a target=\"_blank\" href=https://colab.research.google.com/notebooks/data_table.ipynb>data table notebook</a>'\n",
              "            + ' to learn more about interactive tables.';\n",
              "          element.innerHTML = '';\n",
              "          dataTable['output_type'] = 'display_data';\n",
              "          await google.colab.output.renderOutput(dataTable, element);\n",
              "          const docLink = document.createElement('div');\n",
              "          docLink.innerHTML = docLinkHtml;\n",
              "          element.appendChild(docLink);\n",
              "        }\n",
              "      </script>\n",
              "    </div>\n",
              "  </div>\n",
              "  "
            ]
          },
          "metadata": {},
          "execution_count": 3
        }
      ]
    },
    {
      "cell_type": "code",
      "source": [
        "video_stats_df.info()"
      ],
      "metadata": {
        "colab": {
          "base_uri": "https://localhost:8080/"
        },
        "id": "kWpJqUX4dQhL",
        "outputId": "43bc4e12-4d50-46d4-f6af-ee506e717a00"
      },
      "execution_count": null,
      "outputs": [
        {
          "output_type": "stream",
          "name": "stdout",
          "text": [
            "<class 'pandas.core.frame.DataFrame'>\n",
            "RangeIndex: 1881 entries, 0 to 1880\n",
            "Data columns (total 8 columns):\n",
            " #   Column        Non-Null Count  Dtype  \n",
            "---  ------        --------------  -----  \n",
            " 0   Unnamed: 0    1881 non-null   int64  \n",
            " 1   Title         1881 non-null   object \n",
            " 2   Video ID      1881 non-null   object \n",
            " 3   Published At  1881 non-null   object \n",
            " 4   Keyword       1881 non-null   object \n",
            " 5   Likes         1879 non-null   float64\n",
            " 6   Comments      1879 non-null   float64\n",
            " 7   Views         1879 non-null   float64\n",
            "dtypes: float64(3), int64(1), object(4)\n",
            "memory usage: 117.7+ KB\n"
          ]
        }
      ]
    },
    {
      "cell_type": "markdown",
      "source": [
        "There seems to be some null values in the float columns, I'll proceed to clean the data.\n",
        "\n",
        "Also, the keywords seem to have duplicates but they are based on keywords used. One video can have more than one keyword and get different views, comments, and likes. Based on that I will created two different dataframes to do my analysis."
      ],
      "metadata": {
        "id": "vBWEo8c6eRiA"
      }
    },
    {
      "cell_type": "code",
      "source": [
        "#There seems to be 2 records that are null for likes, comments, views\n",
        "\n",
        "video_stats_df = video_stats_df.dropna()"
      ],
      "metadata": {
        "id": "OnhVUHw3h9vP"
      },
      "execution_count": null,
      "outputs": []
    },
    {
      "cell_type": "code",
      "source": [
        "# Looking for distinct objects in Video ID column\n",
        "video_stats_df['Video ID'].value_counts().head(13)"
      ],
      "metadata": {
        "colab": {
          "base_uri": "https://localhost:8080/"
        },
        "id": "UBJLZxq-ii2x",
        "outputId": "e021036f-be9e-4bf4-94cb-27141662f4fa"
      },
      "execution_count": null,
      "outputs": [
        {
          "output_type": "execute_result",
          "data": {
            "text/plain": [
              "#NAME?         30\n",
              "mqc6QqoGNWI     2\n",
              "2FYvHn12pOQ     2\n",
              "5q87K1WaoFI     2\n",
              "RFMi3v0TXP8     2\n",
              "WBK2_lD7KGA     2\n",
              "R-R0KrXvWbc     2\n",
              "ZgeorpjGJC0     2\n",
              "LeC5yJq4tsI     2\n",
              "kkOweffr3II     2\n",
              "7eh4d6sabA0     2\n",
              "4mgePWWCAmA     2\n",
              "96mrgd8-3yE     2\n",
              "Name: Video ID, dtype: int64"
            ]
          },
          "metadata": {},
          "execution_count": 6
        }
      ]
    },
    {
      "cell_type": "code",
      "source": [
        "# There are duplicates based on what keyword is used so I'll make another df without them\n",
        "video_stats_df_WO = video_stats_df.drop_duplicates(subset='Video ID', keep='first', inplace=False)"
      ],
      "metadata": {
        "id": "Dwbqr-7YtFz5"
      },
      "execution_count": null,
      "outputs": []
    },
    {
      "cell_type": "code",
      "source": [
        "video_stats_df.drop(labels='Unnamed: 0', axis=1, inplace=True)"
      ],
      "metadata": {
        "colab": {
          "base_uri": "https://localhost:8080/"
        },
        "id": "DMZX4nnqy-UO",
        "outputId": "e04fbaa5-f9aa-44ea-fefb-dd6164690806"
      },
      "execution_count": null,
      "outputs": [
        {
          "output_type": "stream",
          "name": "stderr",
          "text": [
            "/usr/local/lib/python3.7/dist-packages/pandas/core/frame.py:4913: SettingWithCopyWarning: \n",
            "A value is trying to be set on a copy of a slice from a DataFrame\n",
            "\n",
            "See the caveats in the documentation: https://pandas.pydata.org/pandas-docs/stable/user_guide/indexing.html#returning-a-view-versus-a-copy\n",
            "  errors=errors,\n"
          ]
        }
      ]
    },
    {
      "cell_type": "markdown",
      "source": [
        "Keywords help YouTube understand the type of content you produce and who your target audience is. Lets look at the the relationship keywords have on views."
      ],
      "metadata": {
        "id": "RE2U49E8x_ao"
      }
    },
    {
      "cell_type": "code",
      "source": [
        "#Uses of keywords in the data\n",
        "video_stats_df['Keyword'].value_counts()"
      ],
      "metadata": {
        "colab": {
          "base_uri": "https://localhost:8080/"
        },
        "id": "Tpm2bwjA5FcC",
        "outputId": "363ca42f-ea6c-4c0d-8ea7-05b1242d34c3"
      },
      "execution_count": null,
      "outputs": [
        {
          "output_type": "execute_result",
          "data": {
            "text/plain": [
              "minecraft           50\n",
              "asmr                50\n",
              "mrbeast             50\n",
              "cnn                 50\n",
              "history             50\n",
              "interview           50\n",
              "physics             50\n",
              "reaction            50\n",
              "cubes               50\n",
              "crypto              50\n",
              "tutorial            50\n",
              "marvel              50\n",
              "data science        50\n",
              "game development    50\n",
              "trolling            50\n",
              "xbox                49\n",
              "sat                 49\n",
              "sports              49\n",
              "tech                48\n",
              "computer science    48\n",
              "nintendo            48\n",
              "food                48\n",
              "machine learning    48\n",
              "how-to              48\n",
              "business            48\n",
              "chess               47\n",
              "biology             47\n",
              "music               46\n",
              "literature          46\n",
              "google              45\n",
              "movies              45\n",
              "mukbang             45\n",
              "bed                 44\n",
              "gaming              43\n",
              "apple               42\n",
              "lofi                41\n",
              "news                39\n",
              "finance             39\n",
              "animals             38\n",
              "education           24\n",
              "mathchemistry       15\n",
              "Name: Keyword, dtype: int64"
            ]
          },
          "metadata": {},
          "execution_count": 9
        }
      ]
    },
    {
      "cell_type": "code",
      "source": [
        "#Barplot of keyword views\n",
        "plt.figure(figsize=(20,7))\n",
        "sns.barplot(x='Keyword',y='Views',data=video_stats_df.sort_values(by='Views',ascending=False))\n",
        "plt.xticks(rotation=80)"
      ],
      "metadata": {
        "colab": {
          "base_uri": "https://localhost:8080/",
          "height": 605
        },
        "id": "sl9j3KRAyrBK",
        "outputId": "9538b593-9e5a-4185-9500-8f91fe509364"
      },
      "execution_count": null,
      "outputs": [
        {
          "output_type": "execute_result",
          "data": {
            "text/plain": [
              "(array([ 0,  1,  2,  3,  4,  5,  6,  7,  8,  9, 10, 11, 12, 13, 14, 15, 16,\n",
              "        17, 18, 19, 20, 21, 22, 23, 24, 25, 26, 27, 28, 29, 30, 31, 32, 33,\n",
              "        34, 35, 36, 37, 38, 39, 40]),\n",
              " <a list of 41 Text major ticklabel objects>)"
            ]
          },
          "metadata": {},
          "execution_count": 48
        },
        {
          "output_type": "display_data",
          "data": {
            "text/plain": [
              "<Figure size 1440x504 with 1 Axes>"
            ],
            "image/png": "[encoded data removed]"
          },
          "metadata": {
            "needs_background": "light"
          }
        }
      ]
    },
    {
      "cell_type": "code",
      "source": [
        "#Barplot of keyword likes\n",
        "plt.figure(figsize=(20,7))\n",
        "sns.barplot(x='Keyword', y='Likes',data=video_stats_df.sort_values(by='Likes', ascending=False)) \n",
        "plt.xticks(rotation=80)"
      ],
      "metadata": {
        "colab": {
          "base_uri": "https://localhost:8080/",
          "height": 605
        },
        "id": "T7OTUQnO77JW",
        "outputId": "640b1742-a4e8-4061-bcfc-28d7f212d3c1"
      },
      "execution_count": null,
      "outputs": [
        {
          "output_type": "execute_result",
          "data": {
            "text/plain": [
              "(array([ 0,  1,  2,  3,  4,  5,  6,  7,  8,  9, 10, 11, 12, 13, 14, 15, 16,\n",
              "        17, 18, 19, 20, 21, 22, 23, 24, 25, 26, 27, 28, 29, 30, 31, 32, 33,\n",
              "        34, 35, 36, 37, 38, 39, 40]),\n",
              " <a list of 41 Text major ticklabel objects>)"
            ]
          },
          "metadata": {},
          "execution_count": 54
        },
        {
          "output_type": "display_data",
          "data": {
            "text/plain": [
              "<Figure size 1440x504 with 1 Axes>"
            ],
            "image/png": "[encoded data removed]"
          },
          "metadata": {
            "needs_background": "light"
          }
        }
      ]
    },
    {
      "cell_type": "code",
      "source": [
        "#Barplot of keywork comments\n",
        "plt.figure(figsize=(20,7))\n",
        "sns.barplot(x='Keyword', y='Comments',data=video_stats_df.sort_values(by='Comments', ascending=False))\n",
        "plt.xticks(rotation=80)"
      ],
      "metadata": {
        "colab": {
          "base_uri": "https://localhost:8080/",
          "height": 585
        },
        "outputId": "9572da7c-aaa1-40bb-f47b-f6d26e7a97c3",
        "id": "xwIS_dSq9RRT"
      },
      "execution_count": null,
      "outputs": [
        {
          "output_type": "execute_result",
          "data": {
            "text/plain": [
              "(array([ 0,  1,  2,  3,  4,  5,  6,  7,  8,  9, 10, 11, 12, 13, 14, 15, 16,\n",
              "        17, 18, 19, 20, 21, 22, 23, 24, 25, 26, 27, 28, 29, 30, 31, 32, 33,\n",
              "        34, 35, 36, 37, 38, 39, 40]),\n",
              " <a list of 41 Text major ticklabel objects>)"
            ]
          },
          "metadata": {},
          "execution_count": 46
        },
        {
          "output_type": "display_data",
          "data": {
            "text/plain": [
              "<Figure size 1440x504 with 1 Axes>"
            ],
            "image/png": "[encoded data removed]"
          },
          "metadata": {
            "needs_background": "light"
          }
        }
      ]
    },
    {
      "cell_type": "markdown",
      "source": [
        "Based on the data keyword mrbeast has receieved more likes and comments than the other keywords. google has received the most views. Now I'll run a t-test with keywords google and mrbeast to see if there is a significant difference between google and mrbeast views.  "
      ],
      "metadata": {
        "id": "iMICF0VQ_vLH"
      }
    },
    {
      "cell_type": "markdown",
      "source": [
        "**Hypothesis 1**\n",
        "\n",
        "H1:The mean of google's views will be <> then the mean of mrbeast views\n",
        "\n",
        "Ha:The mean of google's views will be = to the mean of mrbeast views"
      ],
      "metadata": {
        "id": "hjwtHuNNtU0a"
      }
    },
    {
      "cell_type": "code",
      "source": [
        "#Separating keywords mrbeast and google from the df\n",
        "mrbeast_stats = video_stats_df.loc[(video_stats_df['Keyword']== 'mrbeast')]\n",
        "mrbeast_stats.info()"
      ],
      "metadata": {
        "colab": {
          "base_uri": "https://localhost:8080/"
        },
        "id": "FrjUnOYr_bNr",
        "outputId": "b19a78b9-6971-4285-c03e-4b2a8c39a8a0"
      },
      "execution_count": null,
      "outputs": [
        {
          "output_type": "stream",
          "name": "stdout",
          "text": [
            "<class 'pandas.core.frame.DataFrame'>\n",
            "Int64Index: 50 entries, 1279 to 1328\n",
            "Data columns (total 7 columns):\n",
            " #   Column        Non-Null Count  Dtype  \n",
            "---  ------        --------------  -----  \n",
            " 0   Title         50 non-null     object \n",
            " 1   Video ID      50 non-null     object \n",
            " 2   Published At  50 non-null     object \n",
            " 3   Keyword       50 non-null     object \n",
            " 4   Likes         50 non-null     float64\n",
            " 5   Comments      50 non-null     float64\n",
            " 6   Views         50 non-null     float64\n",
            "dtypes: float64(3), object(4)\n",
            "memory usage: 3.1+ KB\n"
          ]
        }
      ]
    },
    {
      "cell_type": "code",
      "source": [
        "google_stats = video_stats_df.loc[(video_stats_df['Keyword']== 'google')]\n",
        "google_stats.info()"
      ],
      "metadata": {
        "colab": {
          "base_uri": "https://localhost:8080/"
        },
        "id": "IapmahPzPlFM",
        "outputId": "3c0d2e57-24f3-47b6-f263-2c352a0e6232"
      },
      "execution_count": null,
      "outputs": [
        {
          "output_type": "stream",
          "name": "stdout",
          "text": [
            "<class 'pandas.core.frame.DataFrame'>\n",
            "Int64Index: 45 entries, 553 to 597\n",
            "Data columns (total 7 columns):\n",
            " #   Column        Non-Null Count  Dtype  \n",
            "---  ------        --------------  -----  \n",
            " 0   Title         45 non-null     object \n",
            " 1   Video ID      45 non-null     object \n",
            " 2   Published At  45 non-null     object \n",
            " 3   Keyword       45 non-null     object \n",
            " 4   Likes         45 non-null     float64\n",
            " 5   Comments      45 non-null     float64\n",
            " 6   Views         45 non-null     float64\n",
            "dtypes: float64(3), object(4)\n",
            "memory usage: 2.8+ KB\n"
          ]
        }
      ]
    },
    {
      "cell_type": "code",
      "source": [
        "sp.stats.ttest_ind(google_stats['Views'],mrbeast_stats['Views'])"
      ],
      "metadata": {
        "colab": {
          "base_uri": "https://localhost:8080/"
        },
        "id": "Au5QbNmmQqYU",
        "outputId": "479f3e48-0754-49b7-fd1c-79a8c9a7a042"
      },
      "execution_count": null,
      "outputs": [
        {
          "output_type": "execute_result",
          "data": {
            "text/plain": [
              "Ttest_indResult(statistic=0.4286697758876134, pvalue=0.669154831581722)"
            ]
          },
          "metadata": {},
          "execution_count": 17
        }
      ]
    },
    {
      "cell_type": "code",
      "source": [
        "#Function for the confidence intervals\n",
        "def get_95_ci(array_1, array_2):\n",
        "\tsample_1_n = array_1.shape[0]\n",
        "\tsample_2_n = array_2.shape[0]\n",
        "\tsample_1_mean = array_1.mean()\n",
        "\tsample_2_mean = array_2.mean()\n",
        "\tsample_1_var = array_1.var()\n",
        "\tsample_2_var = array_2.var()\n",
        "\tmean_difference = sample_2_mean - sample_1_mean\n",
        "\tstd_err_difference = math.sqrt((sample_1_var/sample_1_n)+(sample_2_var/sample_2_n))\n",
        "\tmargin_of_error = 1.96 * std_err_difference\n",
        "\tci_lower = mean_difference - margin_of_error\n",
        "\tci_upper = mean_difference + margin_of_error\n",
        "\treturn('The difference in means at 95% confidence intervall(two-tail) is between {} and {}').format(ci_lower,ci_upper)\n",
        "\n"
      ],
      "metadata": {
        "id": "Cv2uzyXoWL2v"
      },
      "execution_count": null,
      "outputs": []
    },
    {
      "cell_type": "code",
      "source": [
        "get_95_ci(google_stats['Views'], mrbeast_stats['Views'])"
      ],
      "metadata": {
        "colab": {
          "base_uri": "https://localhost:8080/",
          "height": 35
        },
        "id": "B1e2mxpMXAMK",
        "outputId": "cc9cf650-56e6-470b-be58-42b43b59e3bd"
      },
      "execution_count": null,
      "outputs": [
        {
          "output_type": "execute_result",
          "data": {
            "text/plain": [
              "'The difference in means at 95% confidence intervall(two-tail) is between -212911169.8689884 and 139709236.49565506'"
            ],
            "application/vnd.google.colaboratory.intrinsic+json": {
              "type": "string"
            }
          },
          "metadata": {},
          "execution_count": 19
        }
      ]
    },
    {
      "cell_type": "markdown",
      "source": [
        "The p-value of 0.67 is > than the alpha of 0.05, therefore we can not reject the null hypothesis. There is a 95% confidence that the difference in means is between -200M and 139M(-212,911,169.9 and 139,709,236.5)\n",
        "\n"
      ],
      "metadata": {
        "id": "QeYZ9Cmjdm1j"
      }
    },
    {
      "cell_type": "markdown",
      "source": [
        "**Hypothesis 2**\n",
        "\n",
        "Hypothsis 2: Is there a strong correlation with views between likes and comments"
      ],
      "metadata": {
        "id": "5IR3yIRt2DnW"
      }
    },
    {
      "cell_type": "code",
      "source": [
        "# Correlations of the data with views\n",
        "video_stats_df_WO.corr()"
      ],
      "metadata": {
        "colab": {
          "base_uri": "https://localhost:8080/",
          "height": 175
        },
        "id": "Hfu8g4Cbdq38",
        "outputId": "4b268b91-4f0e-44c0-dd68-8d038bd18829"
      },
      "execution_count": null,
      "outputs": [
        {
          "output_type": "execute_result",
          "data": {
            "text/plain": [
              "            Unnamed: 0     Likes  Comments     Views\n",
              "Unnamed: 0    1.000000  0.021967  0.027461 -0.011950\n",
              "Likes         0.021967  1.000000  0.891903  0.756817\n",
              "Comments      0.027461  0.891903  1.000000  0.660877\n",
              "Views        -0.011950  0.756817  0.660877  1.000000"
            ],
            "text/html": [
              "\n",
              "  <div id=\"df-ecf1ef88-17c2-4b52-8d60-f678ea5b152e\">\n",
              "    <div class=\"colab-df-container\">\n",
              "      <div>\n",
              "<style scoped>\n",
              "    .dataframe tbody tr th:only-of-type {\n",
              "        vertical-align: middle;\n",
              "    }\n",
              "\n",
              "    .dataframe tbody tr th {\n",
              "        vertical-align: top;\n",
              "    }\n",
              "\n",
              "    .dataframe thead th {\n",
              "        text-align: right;\n",
              "    }\n",
              "</style>\n",
              "<table border=\"1\" class=\"dataframe\">\n",
              "  <thead>\n",
              "    <tr style=\"text-align: right;\">\n",
              "      <th></th>\n",
              "      <th>Unnamed: 0</th>\n",
              "      <th>Likes</th>\n",
              "      <th>Comments</th>\n",
              "      <th>Views</th>\n",
              "    </tr>\n",
              "  </thead>\n",
              "  <tbody>\n",
              "    <tr>\n",
              "      <th>Unnamed: 0</th>\n",
              "      <td>1.000000</td>\n",
              "      <td>0.021967</td>\n",
              "      <td>0.027461</td>\n",
              "      <td>-0.011950</td>\n",
              "    </tr>\n",
              "    <tr>\n",
              "      <th>Likes</th>\n",
              "      <td>0.021967</td>\n",
              "      <td>1.000000</td>\n",
              "      <td>0.891903</td>\n",
              "      <td>0.756817</td>\n",
              "    </tr>\n",
              "    <tr>\n",
              "      <th>Comments</th>\n",
              "      <td>0.027461</td>\n",
              "      <td>0.891903</td>\n",
              "      <td>1.000000</td>\n",
              "      <td>0.660877</td>\n",
              "    </tr>\n",
              "    <tr>\n",
              "      <th>Views</th>\n",
              "      <td>-0.011950</td>\n",
              "      <td>0.756817</td>\n",
              "      <td>0.660877</td>\n",
              "      <td>1.000000</td>\n",
              "    </tr>\n",
              "  </tbody>\n",
              "</table>\n",
              "</div>\n",
              "      <button class=\"colab-df-convert\" onclick=\"convertToInteractive('df-ecf1ef88-17c2-4b52-8d60-f678ea5b152e')\"\n",
              "              title=\"Convert this dataframe to an interactive table.\"\n",
              "              style=\"display:none;\">\n",
              "        \n",
              "  <svg xmlns=\"http://www.w3.org/2000/svg\" height=\"24px\"viewBox=\"0 0 24 24\"\n",
              "       width=\"24px\">\n",
              "    <path d=\"M0 0h24v24H0V0z\" fill=\"none\"/>\n",
              "    <path d=\"M18.56 5.44l.94 2.06.94-2.06 2.06-.94-2.06-.94-.94-2.06-.94 2.06-2.06.94zm-11 1L8.5 8.5l.94-2.06 2.06-.94-2.06-.94L8.5 2.5l-.94 2.06-2.06.94zm10 10l.94 2.06.94-2.06 2.06-.94-2.06-.94-.94-2.06-.94 2.06-2.06.94z\"/><path d=\"M17.41 7.96l-1.37-1.37c-.4-.4-.92-.59-1.43-.59-.52 0-1.04.2-1.43.59L10.3 9.45l-7.72 7.72c-.78.78-.78 2.05 0 2.83L4 21.41c.39.39.9.59 1.41.59.51 0 1.02-.2 1.41-.59l7.78-7.78 2.81-2.81c.8-.78.8-2.07 0-2.86zM5.41 20L4 18.59l7.72-7.72 1.47 1.35L5.41 20z\"/>\n",
              "  </svg>\n",
              "      </button>\n",
              "      \n",
              "  <style>\n",
              "    .colab-df-container {\n",
              "      display:flex;\n",
              "      flex-wrap:wrap;\n",
              "      gap: 12px;\n",
              "    }\n",
              "\n",
              "    .colab-df-convert {\n",
              "      background-color: #E8F0FE;\n",
              "      border: none;\n",
              "      border-radius: 50%;\n",
              "      cursor: pointer;\n",
              "      display: none;\n",
              "      fill: #1967D2;\n",
              "      height: 32px;\n",
              "      padding: 0 0 0 0;\n",
              "      width: 32px;\n",
              "    }\n",
              "\n",
              "    .colab-df-convert:hover {\n",
              "      background-color: #E2EBFA;\n",
              "      box-shadow: 0px 1px 2px rgba(60, 64, 67, 0.3), 0px 1px 3px 1px rgba(60, 64, 67, 0.15);\n",
              "      fill: #174EA6;\n",
              "    }\n",
              "\n",
              "    [theme=dark] .colab-df-convert {\n",
              "      background-color: #3B4455;\n",
              "      fill: #D2E3FC;\n",
              "    }\n",
              "\n",
              "    [theme=dark] .colab-df-convert:hover {\n",
              "      background-color: #434B5C;\n",
              "      box-shadow: 0px 1px 3px 1px rgba(0, 0, 0, 0.15);\n",
              "      filter: drop-shadow(0px 1px 2px rgba(0, 0, 0, 0.3));\n",
              "      fill: #FFFFFF;\n",
              "    }\n",
              "  </style>\n",
              "\n",
              "      <script>\n",
              "        const buttonEl =\n",
              "          document.querySelector('#df-ecf1ef88-17c2-4b52-8d60-f678ea5b152e button.colab-df-convert');\n",
              "        buttonEl.style.display =\n",
              "          google.colab.kernel.accessAllowed ? 'block' : 'none';\n",
              "\n",
              "        async function convertToInteractive(key) {\n",
              "          const element = document.querySelector('#df-ecf1ef88-17c2-4b52-8d60-f678ea5b152e');\n",
              "          const dataTable =\n",
              "            await google.colab.kernel.invokeFunction('convertToInteractive',\n",
              "                                                     [key], {});\n",
              "          if (!dataTable) return;\n",
              "\n",
              "          const docLinkHtml = 'Like what you see? Visit the ' +\n",
              "            '<a target=\"_blank\" href=https://colab.research.google.com/notebooks/data_table.ipynb>data table notebook</a>'\n",
              "            + ' to learn more about interactive tables.';\n",
              "          element.innerHTML = '';\n",
              "          dataTable['output_type'] = 'display_data';\n",
              "          await google.colab.output.renderOutput(dataTable, element);\n",
              "          const docLink = document.createElement('div');\n",
              "          docLink.innerHTML = docLinkHtml;\n",
              "          element.appendChild(docLink);\n",
              "        }\n",
              "      </script>\n",
              "    </div>\n",
              "  </div>\n",
              "  "
            ]
          },
          "metadata": {},
          "execution_count": 50
        }
      ]
    },
    {
      "cell_type": "code",
      "source": [
        "plt.figure(figsize=(5,5))\n",
        "sns.scatterplot(x='Likes', y='Views', data=video_stats_df_WO)"
      ],
      "metadata": {
        "colab": {
          "base_uri": "https://localhost:8080/",
          "height": 362
        },
        "id": "OZb5zPwWhUJn",
        "outputId": "a0a6d108-0015-43c0-a7ac-fb11877d7641"
      },
      "execution_count": null,
      "outputs": [
        {
          "output_type": "execute_result",
          "data": {
            "text/plain": [
              "<matplotlib.axes._subplots.AxesSubplot at 0x7f52fd053b50>"
            ]
          },
          "metadata": {},
          "execution_count": 21
        },
        {
          "output_type": "display_data",
          "data": {
            "text/plain": [
              "<Figure size 360x360 with 1 Axes>"
            ],
            "image/png": "[encoded data removed]"
          },
          "metadata": {
            "needs_background": "light"
          }
        }
      ]
    },
    {
      "cell_type": "code",
      "source": [
        "plt.figure(figsize=(5,5))\n",
        "sns.scatterplot(x='Comments', y='Views', data=video_stats_df_WO)\n",
        "plt.xticks(rotation=20)"
      ],
      "metadata": {
        "colab": {
          "base_uri": "https://localhost:8080/",
          "height": 409
        },
        "id": "VnwyOaZrigHc",
        "outputId": "f862d75d-7d68-4506-c77e-c63160946657"
      },
      "execution_count": null,
      "outputs": [
        {
          "output_type": "execute_result",
          "data": {
            "text/plain": [
              "(array([-100000.,       0.,  100000.,  200000.,  300000.,  400000.,\n",
              "         500000.,  600000.,  700000.,  800000.]),\n",
              " <a list of 10 Text major ticklabel objects>)"
            ]
          },
          "metadata": {},
          "execution_count": 45
        },
        {
          "output_type": "display_data",
          "data": {
            "text/plain": [
              "<Figure size 360x360 with 1 Axes>"
            ],
            "image/png": "[encoded data removed]"
          },
          "metadata": {
            "needs_background": "light"
          }
        }
      ]
    },
    {
      "cell_type": "code",
      "source": [
        "plt.figure(figsize=(5,5))\n",
        "sns.scatterplot(x='Likes', y='Comments', data=video_stats_df_WO)"
      ],
      "metadata": {
        "colab": {
          "base_uri": "https://localhost:8080/",
          "height": 351
        },
        "id": "P0k3rfkLjFHm",
        "outputId": "94696cf8-881e-40ab-b2d5-9b0b8d655d8a"
      },
      "execution_count": null,
      "outputs": [
        {
          "output_type": "execute_result",
          "data": {
            "text/plain": [
              "<matplotlib.axes._subplots.AxesSubplot at 0x7f52fced4d10>"
            ]
          },
          "metadata": {},
          "execution_count": 23
        },
        {
          "output_type": "display_data",
          "data": {
            "text/plain": [
              "<Figure size 360x360 with 1 Axes>"
            ],
            "image/png": "[encoded data removed]"
          },
          "metadata": {
            "needs_background": "light"
          }
        }
      ]
    },
    {
      "cell_type": "markdown",
      "source": [
        "Based on the scatterplots there is a weak correlation between views and comments or views and likes. But what was interesting to find was a strong correlation betwen comments and likes.\n",
        "\n"
      ],
      "metadata": {
        "id": "7FM8eEFVjxdN"
      }
    },
    {
      "cell_type": "markdown",
      "source": [
        "**Recommendations**\n",
        "\n",
        "1.  Keywords play a big role when it comes to views a video will get. Hence a \n",
        "business must make sure they are looking for keywords in videos that matches a viewer they want to advertise towards and that will get the most views.\n",
        "\n",
        "2. Comments and likes have a weak correlation with views. But what's interesting is likes and comments have a strong correlation between each other. When selecting a content creator I would suggest to add another criteria which would be the amount of likes they get a video. Likes has a stronger correlation with views and the strongest correlation with comments. Meaning the more likes a video gets the more comments a video will have and views a video will have."
      ],
      "metadata": {
        "id": "R_EJOHw76RWx"
      }
    }
  ]
}